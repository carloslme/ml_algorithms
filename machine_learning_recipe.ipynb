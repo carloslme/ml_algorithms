{
  "nbformat": 4,
  "nbformat_minor": 0,
  "metadata": {
    "colab": {
      "name": "machine_learning_recipe.ipynb",
      "provenance": [],
      "authorship_tag": "ABX9TyO9xP81gydrMmufez+jAem7",
      "include_colab_link": true
    },
    "kernelspec": {
      "name": "python3",
      "display_name": "Python 3"
    },
    "language_info": {
      "name": "python"
    }
  },
  "cells": [
    {
      "cell_type": "markdown",
      "metadata": {
        "id": "view-in-github",
        "colab_type": "text"
      },
      "source": [
        "<a href=\"https://colab.research.google.com/github/carloslme/ml_algorithms/blob/main/machine_learning_recipe.ipynb\" target=\"_parent\"><img src=\"https://colab.research.google.com/assets/colab-badge.svg\" alt=\"Open In Colab\"/></a>"
      ]
    },
    {
      "cell_type": "markdown",
      "metadata": {
        "id": "7V5C9q1qZ_Bj"
      },
      "source": [
        "#Introduction"
      ]
    },
    {
      "cell_type": "markdown",
      "metadata": {
        "id": "00IPY6dkaCAB"
      },
      "source": [
        "At first, let's check it out some definitions of Machine Learning:\n",
        "\n",
        "* *Machine Learning, a subdomain of artificial intelligence, allows a computer to produce output without being explicitly programmed.* [HackerRank](https://www.hackerrank.com/skills-directory/machine_learning)\n",
        "\n",
        "\n",
        "* *Machine Learning (ML) is a modern software development technique and a type of artificial intelligence (AI) that enables computers to solve problems by using examples of real-world data. It allows computers to automatically learn and improve from experience without being explicitly programmed to do so.*[Introduction to Machine Learning](https://classroom.udacity.com/nanodegrees/nd065/dashboard/overview)\n",
        "\n",
        "This notebook contains the different steps that a typical machiner learning project should include in the data pipeline.\n"
      ]
    },
    {
      "cell_type": "markdown",
      "metadata": {
        "id": "o7hzp-RsjgVC"
      },
      "source": [
        "# Key Steps"
      ]
    },
    {
      "cell_type": "markdown",
      "metadata": {
        "id": "ungbrnZ-juox"
      },
      "source": [
        "## Frame the problem and look at the big picture\n",
        "### Steps\n",
        "1. Define the objective in business terms.\n",
        "\n",
        "2. How will your solution be used?\n",
        "\n",
        "3. What are the current solutions/workarounds (if any)?\n",
        "\n",
        "4. How should you frame this problem (supervised/unsupervised, online/offline, etc.)?\n",
        "\n",
        "5. How should performance be measured?\n",
        "\n",
        "6. Is the performance measure aligned with the business objective?\n",
        "\n",
        "7. What would be the minimum performance needed to reach the business objective?\n",
        "\n",
        "8. What are comparable problems? Can you reuse experience or tools?\n",
        "\n",
        "9. Is human expertise available?\n",
        "\n",
        "10. How would you solve the problem manually?\n",
        "\n",
        "11. List the assumptions you (or others) have made so far.\n",
        "\n",
        "12. Verify assumptions if possible."
      ]
    },
    {
      "cell_type": "markdown",
      "metadata": {
        "id": "Ry30Cd-Voxt7"
      },
      "source": [
        "### Key competencies\n",
        "* Know and understand the business - business acumen"
      ]
    },
    {
      "cell_type": "markdown",
      "metadata": {
        "id": "plGvg-NYjy7i"
      },
      "source": [
        "## Get the data\n",
        "### Steps\n",
        "Note: automate as much as possible so you can easily get fresh data.\n",
        "1. List the data you need and how much you need.\n",
        "\n",
        "2. Find and document where you can get that data.\n",
        "\n",
        "3. Check how much space it will take.\n",
        "\n",
        "4. Check legal obligations, and get authorization if necessary.\n",
        "\n",
        "5. Get access authorizations.\n",
        "\n",
        "6. Create a workspace (with enough storage space).\n",
        "\n",
        "7. Get the data.\n",
        "\n",
        "8. Convert the data to a format you can easily manipulate (without changing the data itself).\n",
        "\n",
        "9. Ensure sensitive information is deleted or protected (e.g., anonymized).\n",
        "\n",
        "10. Check the size and type of data (time series, sample, geographical, etc.).\n",
        "\n",
        "11. Sample a test set, put it aside, and never look at it (no data snooping!)."
      ]
    },
    {
      "cell_type": "markdown",
      "metadata": {
        "id": "ZzT6KP6Zs8pL"
      },
      "source": [
        "### Key competencies\n",
        "* **Working with Jupyter Notebook** - Launch a Jupyter notebook server and create a new Jupyter notebook. Setting up a machine learning development environment (and associated tools) by launching a Jupyter notebook server from the command line and creating a new notebook.\n",
        "\n",
        "* **UCI Machine Learning Repository​** ​- ​Procuring data to use during the machine learning process from the UCI Machine Learning Repository. Data should be downloaded using a Jupyter Notebook."
      ]
    },
    {
      "cell_type": "markdown",
      "metadata": {
        "id": "1FTp3M70j5WC"
      },
      "source": [
        "## Explore the data to gain insights"
      ]
    },
    {
      "cell_type": "markdown",
      "metadata": {
        "id": "fhdCtAc3j5Hq"
      },
      "source": [
        "## Prepare the data to better expose the underlying data patterns to Machine Learning algoritms"
      ]
    },
    {
      "cell_type": "markdown",
      "metadata": {
        "id": "ySD_oztKj4_y"
      },
      "source": [
        "## Explore many different models and combine them into a great solution"
      ]
    },
    {
      "cell_type": "markdown",
      "metadata": {
        "id": "RDIZx3Jkj43C"
      },
      "source": [
        "## Present your solution"
      ]
    },
    {
      "cell_type": "markdown",
      "metadata": {
        "id": "w6f_lGJ1j4uF"
      },
      "source": [
        "## Launch, monitor, and maintain your system"
      ]
    },
    {
      "cell_type": "code",
      "metadata": {
        "id": "wU_Nlgb3ZLZj"
      },
      "source": [
        ""
      ],
      "execution_count": null,
      "outputs": []
    }
  ]
}