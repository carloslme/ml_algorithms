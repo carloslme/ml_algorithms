{
  "nbformat": 4,
  "nbformat_minor": 0,
  "metadata": {
    "colab": {
      "name": "machine_learning_recipe.ipynb",
      "provenance": [],
      "authorship_tag": "ABX9TyP5RElmJAOdZxxXBEKMrUvt",
      "include_colab_link": true
    },
    "kernelspec": {
      "name": "python3",
      "display_name": "Python 3"
    },
    "language_info": {
      "name": "python"
    }
  },
  "cells": [
    {
      "cell_type": "markdown",
      "metadata": {
        "id": "view-in-github",
        "colab_type": "text"
      },
      "source": [
        "<a href=\"https://colab.research.google.com/github/carloslme/ml_algorithms/blob/main/machine_learning_recipe.ipynb\" target=\"_parent\"><img src=\"https://colab.research.google.com/assets/colab-badge.svg\" alt=\"Open In Colab\"/></a>"
      ]
    },
    {
      "cell_type": "markdown",
      "metadata": {
        "id": "7V5C9q1qZ_Bj"
      },
      "source": [
        "#Introduction"
      ]
    },
    {
      "cell_type": "markdown",
      "metadata": {
        "id": "00IPY6dkaCAB"
      },
      "source": [
        "At first, let's check it out some definitions of Machine Learning:\n",
        "\n",
        "* *Machine Learning, a subdomain of artificial intelligence, allows a computer to produce output without being explicitly programmed.* [HackerRank](https://www.hackerrank.com/skills-directory/machine_learning)\n",
        "\n",
        "\n",
        "* *Machine Learning (ML) is a modern software development technique and a type of artificial intelligence (AI) that enables computers to solve problems by using examples of real-world data. It allows computers to automatically learn and improve from experience without being explicitly programmed to do so.*[Introduction to Machine Learning](https://classroom.udacity.com/nanodegrees/nd065/dashboard/overview)\n",
        "\n",
        "This notebook contains the different stages that a typical machiner learning project should include in the data pipeline.\n"
      ]
    },
    {
      "cell_type": "code",
      "metadata": {
        "id": "wU_Nlgb3ZLZj"
      },
      "source": [
        ""
      ],
      "execution_count": null,
      "outputs": []
    }
  ]
}