{
  "nbformat": 4,
  "nbformat_minor": 0,
  "metadata": {
    "colab": {
      "name": "machine_learning_recipe.ipynb",
      "provenance": [],
      "authorship_tag": "ABX9TyNH7OQyt7NBAYdUqbZu0RuR",
      "include_colab_link": true
    },
    "kernelspec": {
      "name": "python3",
      "display_name": "Python 3"
    },
    "language_info": {
      "name": "python"
    }
  },
  "cells": [
    {
      "cell_type": "markdown",
      "metadata": {
        "id": "view-in-github",
        "colab_type": "text"
      },
      "source": [
        "<a href=\"https://colab.research.google.com/github/carloslme/ml_algorithms/blob/main/machine_learning_recipe.ipynb\" target=\"_parent\"><img src=\"https://colab.research.google.com/assets/colab-badge.svg\" alt=\"Open In Colab\"/></a>"
      ]
    },
    {
      "cell_type": "markdown",
      "metadata": {
        "id": "7V5C9q1qZ_Bj"
      },
      "source": [
        "#Introduction"
      ]
    },
    {
      "cell_type": "markdown",
      "metadata": {
        "id": "00IPY6dkaCAB"
      },
      "source": [
        "This notebook contains the different stages that a typical machiner learning project should include in the data pipeline.\n"
      ]
    },
    {
      "cell_type": "code",
      "metadata": {
        "id": "wU_Nlgb3ZLZj"
      },
      "source": [
        ""
      ],
      "execution_count": null,
      "outputs": []
    }
  ]
}